{
 "cells": [
  {
   "metadata": {
    "ExecuteTime": {
     "end_time": "2024-08-06T01:22:42.283132Z",
     "start_time": "2024-08-06T01:22:06.595339Z"
    }
   },
   "cell_type": "code",
   "source": [
    "def get_float_input(prompt):\n",
    "    while True:\n",
    "        try:\n",
    "            return float(input(prompt))\n",
    "        except ValueError:\n",
    "            print(\"Invalid input. Please enter a numeric value.\")\n",
    "\n",
    "def get_forecasted_dividends():\n",
    "    dividends = []\n",
    "    while True:\n",
    "        try:\n",
    "            num_years = int(input(\"Enter the number of forecasted years for dividends: \"))\n",
    "            if num_years <= 0:\n",
    "                print(\"Please enter a positive integer.\")\n",
    "                continue\n",
    "            for i in range(1, num_years + 1):\n",
    "                dividend = get_float_input(f\"Enter forecasted dividend for year {i}: \")\n",
    "                dividends.append(dividend)\n",
    "            break\n",
    "        except ValueError:\n",
    "            print(\"Invalid input. Please enter a positive integer.\")\n",
    "    return dividends\n",
    "\n",
    "def calculate_intrinsic_value(dividends, g_terminal, discount_rate):\n",
    "    # calculate PV of dividends\n",
    "    pv_dividends = [dividend / (1 + discount_rate) ** (i + 1) for i, dividend in enumerate(dividends)]\n",
    "\n",
    "    # calculate Terminal Value and PV of Terminal Value\n",
    "    D_last = dividends[-1] * (1 + g_terminal)\n",
    "    TV = D_last / (discount_rate - g_terminal)\n",
    "    PV_TV = TV / (1 + discount_rate) ** len(dividends)\n",
    "\n",
    "    # calculate total intrinsic value\n",
    "    intrinsic_value = sum(pv_dividends) + PV_TV\n",
    "    return intrinsic_value\n",
    "\n",
    "def main():\n",
    "    print(\"Welcome to the Stock Valuation Calculator\")\n",
    "    \n",
    "    # get user inputs\n",
    "    ticker = input(\"Enter the stock ticker: \").upper()\n",
    "    current_price = get_float_input(f\"Enter the current market price of {ticker}: \")\n",
    "    dividends = get_forecasted_dividends()\n",
    "    g_terminal = get_float_input(\"Enter the terminal growth rate (as a decimal): \")\n",
    "    discount_choice = input(\"Would you like to use a custom discount rate or CAPM model? Enter 'custom' or 'CAPM': \").strip().lower()\n",
    "    \n",
    "    if discount_choice == 'custom':\n",
    "        discount_rate = get_float_input(\"Enter the custom discount rate (as a decimal): \")\n",
    "    elif discount_choice == 'capm':\n",
    "        risk_free_rate = 0.03\n",
    "        market_risk_premium = 0.04\n",
    "        beta = 0.45\n",
    "        discount_rate = risk_free_rate + beta * market_risk_premium\n",
    "    else:\n",
    "        print(\"Invalid choice. Please enter a valid option.\")\n",
    "        return\n",
    "\n",
    "    # calculate intrinsic value\n",
    "    intrinsic_value = calculate_intrinsic_value(dividends, g_terminal, discount_rate)\n",
    "    print(f\"\\nIntrinsic value per share of {ticker}: ${intrinsic_value:.2f}\")\n",
    "    \n",
    "    # provide recommendation\n",
    "    if intrinsic_value > current_price:\n",
    "        recommendation = \"Buy\"\n",
    "    elif intrinsic_value < current_price:\n",
    "        recommendation = \"Sell\"\n",
    "    else:\n",
    "        recommendation = \"Hold\"\n",
    "    \n",
    "    print(f\"Recommendation: {recommendation} (Current Price: ${current_price}, Intrinsic Value: ${intrinsic_value:.2f})\")\n",
    "\n",
    "if __name__ == \"__main__\":\n",
    "    main()"
   ],
   "id": "ce6e0462a67b7df2",
   "outputs": [
    {
     "name": "stdout",
     "output_type": "stream",
     "text": [
      "Welcome to the Stock Valuation Calculator\n",
      "\n",
      "Intrinsic value per share of WMT: $60.21\n",
      "Recommendation: Sell (Current Price: $67.59, Intrinsic Value: $60.21)\n"
     ]
    }
   ],
   "execution_count": 15
  }
 ],
 "metadata": {
  "kernelspec": {
   "display_name": "Python 3",
   "language": "python",
   "name": "python3"
  },
  "language_info": {
   "codemirror_mode": {
    "name": "ipython",
    "version": 2
   },
   "file_extension": ".py",
   "mimetype": "text/x-python",
   "name": "python",
   "nbconvert_exporter": "python",
   "pygments_lexer": "ipython2",
   "version": "2.7.6"
  }
 },
 "nbformat": 4,
 "nbformat_minor": 5
}
